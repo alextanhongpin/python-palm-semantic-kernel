{
 "cells": [
  {
   "cell_type": "code",
   "execution_count": 12,
   "id": "5a7a301c-dc63-4f06-9101-d44f19dca318",
   "metadata": {},
   "outputs": [],
   "source": [
    "import os\n",
    "\n",
    "api_key = os.environ[\"PALM_API_KEY\"]"
   ]
  },
  {
   "cell_type": "code",
   "execution_count": 13,
   "id": "a4fd2a1c-f300-4c8f-a860-5f28f1c45bd1",
   "metadata": {},
   "outputs": [],
   "source": [
    "import logging\n",
    "\n",
    "import semantic_kernel as sk\n",
    "import semantic_kernel.connectors.ai.google_palm as sk_gp\n",
    "from semantic_kernel.connectors.ai.chat_request_settings import ChatRequestSettings"
   ]
  },
  {
   "cell_type": "code",
   "execution_count": 25,
   "id": "168e0b99-78af-4625-809e-d607f507933a",
   "metadata": {},
   "outputs": [
    {
     "data": {
      "text/plain": [
       "<semantic_kernel.kernel.Kernel at 0x11d353d50>"
      ]
     },
     "execution_count": 25,
     "metadata": {},
     "output_type": "execute_result"
    }
   ],
   "source": [
    "# Setup logger in Jupyter Notebook.\n",
    "# This allows us to see what was sent to the LLM.\n",
    "logging.basicConfig()\n",
    "logger = logging.getLogger()\n",
    "logger.setLevel(logging.DEBUG)\n",
    "\n",
    "kernel = sk.Kernel(log=logger)\n",
    "palm_chat_completion = sk_gp.GooglePalmChatCompletion(\"models/chat-bison-001\", api_key)\n",
    "kernel.add_chat_service(\"chat-palm\", palm_chat_completion)"
   ]
  },
  {
   "cell_type": "code",
   "execution_count": 26,
   "id": "d119cd53-0e3c-4c85-9d96-8bb707d0c139",
   "metadata": {
    "scrolled": true
   },
   "outputs": [
    {
     "name": "stderr",
     "output_type": "stream",
     "text": [
      "DEBUG:root:Extracting blocks from template: WRITE EXACTLY ONE JOKE or HUMOROUS STORY ABOUT THE TOPIC BELOW\n",
      "\n",
      "JOKE MUST BE:\n",
      "- G RATED\n",
      "- WORKPLACE/FAMILY SAFE\n",
      "NO SEXISM, RACISM OR OTHER BIAS/BIGOTRY\n",
      "\n",
      "BE CREATIVE AND FUNNY. I WANT TO LAUGH.\n",
      "Incorporate the style suggestion, if provided: {{$style}}\n",
      "+++++\n",
      "\n",
      "{{$input}}\n",
      "+++++\n",
      "DEBUG:asyncio:Using selector: KqueueSelector\n",
      "DEBUG:root:Rendering string template: WRITE EXACTLY ONE JOKE or HUMOROUS STORY ABOUT THE TOPIC BELOW\n",
      "\n",
      "JOKE MUST BE:\n",
      "- G RATED\n",
      "- WORKPLACE/FAMILY SAFE\n",
      "NO SEXISM, RACISM OR OTHER BIAS/BIGOTRY\n",
      "\n",
      "BE CREATIVE AND FUNNY. I WANT TO LAUGH.\n",
      "Incorporate the style suggestion, if provided: {{$style}}\n",
      "+++++\n",
      "\n",
      "{{$input}}\n",
      "+++++\n",
      "DEBUG:root:Extracting blocks from template: WRITE EXACTLY ONE JOKE or HUMOROUS STORY ABOUT THE TOPIC BELOW\n",
      "\n",
      "JOKE MUST BE:\n",
      "- G RATED\n",
      "- WORKPLACE/FAMILY SAFE\n",
      "NO SEXISM, RACISM OR OTHER BIAS/BIGOTRY\n",
      "\n",
      "BE CREATIVE AND FUNNY. I WANT TO LAUGH.\n",
      "Incorporate the style suggestion, if provided: {{$style}}\n",
      "+++++\n",
      "\n",
      "{{$input}}\n",
      "+++++\n",
      "DEBUG:root:Rendering list of 5 blocks\n",
      "WARNING:root:Variable `$style` not found\n",
      "DEBUG:root:Rendered prompt: WRITE EXACTLY ONE JOKE or HUMOROUS STORY ABOUT THE TOPIC BELOW\n",
      "\n",
      "JOKE MUST BE:\n",
      "- G RATED\n",
      "- WORKPLACE/FAMILY SAFE\n",
      "NO SEXISM, RACISM OR OTHER BIAS/BIGOTRY\n",
      "\n",
      "BE CREATIVE AND FUNNY. I WANT TO LAUGH.\n",
      "Incorporate the style suggestion, if provided: \n",
      "+++++\n",
      "\n",
      "a blue dinosaur\n",
      "+++++\n"
     ]
    },
    {
     "name": "stdout",
     "output_type": "stream",
     "text": [
      "A blue dinosaur walks into a bar and orders a drink. The bartender looks at him and says, \"Sorry, we don't serve dinosaurs here.\" The dinosaur is disappointed, but he leaves without making a fuss.\n",
      "\n",
      "The next day, the dinosaur comes back to the bar and orders a drink. The bartender looks at him and says, \"I told you, we don't serve dinosaurs here.\" The dinosaur is angry this time, and he says, \"Why not? I'm a paying customer!\"\n",
      "\n",
      "The bartender says, \"Because dinosaurs are extinct.\"\n",
      "\n",
      "The dinosaur says, \"That's not true! I'm right here!\"\n",
      "\n",
      "The bartender says, \"I don't care. We don't serve dinosaurs here.\"\n",
      "\n",
      "The dinosaur is so angry that he storms out of the bar. He goes to the next bar, and he orders a drink. The bartender looks at him and says, \"Sorry, we don't serve dinosaurs here.\"\n",
      "\n",
      "The dinosaur is furious. He says, \"I'm going to sue you! You can't discriminate against me just because I'm a dinosaur!\"\n",
      "\n",
      "The bartender says, \"I'm not discriminating against you. We just don't serve dinosaurs here.\"\n",
      "\n",
      "The dinosaur says, \"Why not?\"\n",
      "\n",
      "The bartender says, \"Because dinosaurs are too big.\"\n",
      "\n",
      "The dinosaur says, \"That's not true! I'm a very small dinosaur.\"\n",
      "\n",
      "The bartender says, \"I don't care. We don't serve dinosaurs here.\"\n",
      "\n",
      "The dinosaur is so angry that he storms out of the bar. He goes to the next bar, and he orders a drink. The bartender looks at him and says, \"Sorry, we don't serve dinosaurs here.\"\n",
      "\n",
      "The dinosaur is so angry that he explodes.\n"
     ]
    }
   ],
   "source": [
    "# Load a Skill and run a semantic function:\n",
    "skill = kernel.import_semantic_skill_from_directory(\"./skills\", \"FunSkills\")\n",
    "joke_function = skill[\"Joke\"]\n",
    "\n",
    "print(joke_function(\"a blue dinosaur\"))"
   ]
  },
  {
   "cell_type": "code",
   "execution_count": 27,
   "id": "6201641b-0129-4a6b-b0fd-23e67e2d23ff",
   "metadata": {},
   "outputs": [
    {
     "name": "stderr",
     "output_type": "stream",
     "text": [
      "DEBUG:root:Rendering string template: WRITE EXACTLY ONE JOKE or HUMOROUS STORY ABOUT THE TOPIC BELOW\n",
      "\n",
      "JOKE MUST BE:\n",
      "- G RATED\n",
      "- WORKPLACE/FAMILY SAFE\n",
      "NO SEXISM, RACISM OR OTHER BIAS/BIGOTRY\n",
      "\n",
      "BE CREATIVE AND FUNNY. I WANT TO LAUGH.\n",
      "Incorporate the style suggestion, if provided: {{$style}}\n",
      "+++++\n",
      "\n",
      "{{$input}}\n",
      "+++++\n",
      "DEBUG:root:Extracting blocks from template: WRITE EXACTLY ONE JOKE or HUMOROUS STORY ABOUT THE TOPIC BELOW\n",
      "\n",
      "JOKE MUST BE:\n",
      "- G RATED\n",
      "- WORKPLACE/FAMILY SAFE\n",
      "NO SEXISM, RACISM OR OTHER BIAS/BIGOTRY\n",
      "\n",
      "BE CREATIVE AND FUNNY. I WANT TO LAUGH.\n",
      "Incorporate the style suggestion, if provided: {{$style}}\n",
      "+++++\n",
      "\n",
      "{{$input}}\n",
      "+++++\n",
      "DEBUG:root:Rendering list of 5 blocks\n",
      "WARNING:root:Variable `$style` not found\n",
      "DEBUG:root:Rendered prompt: WRITE EXACTLY ONE JOKE or HUMOROUS STORY ABOUT THE TOPIC BELOW\n",
      "\n",
      "JOKE MUST BE:\n",
      "- G RATED\n",
      "- WORKPLACE/FAMILY SAFE\n",
      "NO SEXISM, RACISM OR OTHER BIAS/BIGOTRY\n",
      "\n",
      "BE CREATIVE AND FUNNY. I WANT TO LAUGH.\n",
      "Incorporate the style suggestion, if provided: \n",
      "+++++\n",
      "\n",
      "rainbow cactus\n",
      "+++++\n"
     ]
    },
    {
     "name": "stdout",
     "output_type": "stream",
     "text": [
      "A rainbow cactus walks into a bar and orders a drink. The bartender looks at him and says, \"Sorry, we don't serve rainbows here.\"\n",
      "\n",
      "The rainbow cactus is confused. \"Why not?\" he asks. \"I'm a paying customer.\"\n",
      "\n",
      "\"Because rainbows are too colorful,\" the bartender says. \"We don't want to scare the other customers.\"\n",
      "\n",
      "The rainbow cactus is offended. \"I'm not scary!\" he says. \"I'm beautiful!\"\n",
      "\n",
      "\"I don't care,\" the bartender says. \"We don't serve rainbows here.\"\n",
      "\n",
      "The rainbow cactus is so angry that he storms out of the bar. He goes to the next bar, and he orders a drink. The bartender looks at him and says, \"Sorry, we don't serve rainbows here.\"\n",
      "\n",
      "The rainbow cactus is furious. \"I'm going to sue you!\" he says. \"You can't discriminate against me just because I'm a rainbow!\"\n",
      "\n",
      "The bartender says, \"I'm not discriminating against you. We just don't serve rainbows here.\"\n",
      "\n",
      "The rainbow cactus says, \"Why not?\"\n",
      "\n",
      "The bartender says, \"Because rainbows are too gay.\"\n",
      "\n",
      "The rainbow cactus is so angry that he explodes.\n"
     ]
    }
   ],
   "source": [
    "# You can also invoke functions asynchronously\n",
    "result = await joke_function.invoke_async(\"rainbow cactus\")\n",
    "print(result)"
   ]
  }
 ],
 "metadata": {
  "kernelspec": {
   "display_name": "Python 3 (ipykernel)",
   "language": "python",
   "name": "python3"
  },
  "language_info": {
   "codemirror_mode": {
    "name": "ipython",
    "version": 3
   },
   "file_extension": ".py",
   "mimetype": "text/x-python",
   "name": "python",
   "nbconvert_exporter": "python",
   "pygments_lexer": "ipython3",
   "version": "3.11.6"
  }
 },
 "nbformat": 4,
 "nbformat_minor": 5
}
