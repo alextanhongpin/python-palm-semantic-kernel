{
 "cells": [
  {
   "cell_type": "code",
   "execution_count": 1,
   "id": "8d2323ef-7684-4859-93fb-9f3444d38629",
   "metadata": {},
   "outputs": [],
   "source": [
    "import os\n",
    "\n",
    "api_key = os.environ[\"PALM_API_KEY\"]"
   ]
  },
  {
   "cell_type": "code",
   "execution_count": 3,
   "id": "4dbaa58c-e1d1-49f4-bc1b-7ee4fb79d665",
   "metadata": {},
   "outputs": [
    {
     "name": "stderr",
     "output_type": "stream",
     "text": [
      "/Users/alextanhongpin/Documents/python/python-palm-semantic-kernel/.venv/lib/python3.11/site-packages/tqdm/auto.py:21: TqdmWarning: IProgress not found. Please update jupyter and ipywidgets. See https://ipywidgets.readthedocs.io/en/stable/user_install.html\n",
      "  from .autonotebook import tqdm as notebook_tqdm\n"
     ]
    }
   ],
   "source": [
    "import semantic_kernel as sk\n",
    "import semantic_kernel.connectors.ai.google_palm as sk_gp\n",
    "from semantic_kernel.connectors.search_engine import GoogleConnector\n",
    "from semantic_kernel.core_skills import WebSearchEngineSkill"
   ]
  },
  {
   "cell_type": "code",
   "execution_count": 8,
   "id": "3d96e385-6f55-4f0b-9150-2b42f145fb89",
   "metadata": {},
   "outputs": [],
   "source": [
    "async def main() -> None:\n",
    "    kernel = sk.Kernel()\n",
    "    kernel.add_chat_service(\n",
    "        \"models/chat-bison-001\",\n",
    "        sk_gp.GooglePalmChatCompletion(\"models/chat-bison-001\", api_key),\n",
    "    )\n",
    "\n",
    "    # Instantiate a Google Connector.\n",
    "    connector = GoogleConnector(\n",
    "        api_key=os.getenv(\"GOOGLE_API_KEY\"),\n",
    "        search_engine_id=os.getenv(\"GOOGLE_SEARCH_ENGINE_ID\"),\n",
    "    )\n",
    "\n",
    "    # Create a WebSearchEngineSkill and pass the Google Connector to it.\n",
    "    web_skill = kernel.import_skill(WebSearchEngineSkill(connector), \"WebSearch\")\n",
    "\n",
    "    # The search query.\n",
    "    prompt = \"What is the trending AI development?\"\n",
    "    search_async = web_skill[\"searchAsync\"]\n",
    "\n",
    "    # By default, only one search result is provided.\n",
    "    result = await search_async.invoke_async(prompt)\n",
    "    print(result)\n",
    "\n",
    "    # Following example demonstrates the use of the skill within a semantic function.\n",
    "    prompt = \"\"\"\n",
    "    Answer the question using only the data that is provided in the data section.\n",
    "    Do not use any prior knowledge to answer the question.\n",
    "    Data: {{WebSearch.SearchAsync \"What is semantic kernel?\"}}\n",
    "    Question: What is semantic kernel?\n",
    "    Answer:\n",
    "    \"\"\"\n",
    "    qna = kernel.create_semantic_function(prompt, temperature=0.2)\n",
    "    context = kernel.create_new_context()\n",
    "\n",
    "    \"\"\"\n",
    "    Two context parameters can be passed to the search engine skill.\n",
    "    - num_results controls the number of results returned by the web search\n",
    "    - offset controls the number of results to omit\n",
    "    \"\"\"\n",
    "    context[\"num_results\"] = \"10\"\n",
    "    context[\"offset\"] = \"0\"\n",
    "\n",
    "    result = await qna.invoke_async(context=context)\n",
    "    print(result)"
   ]
  },
  {
   "cell_type": "code",
   "execution_count": 9,
   "id": "fafab9aa-ceb6-487d-baef-e9cb7c1870ab",
   "metadata": {},
   "outputs": [
    {
     "name": "stdout",
     "output_type": "stream",
     "text": [
      "['Sep 18, 2023 ... The 10 Most Important AI Trends For 2024 Everyone Must Be Ready For Now · Beyond Words And Pictures · Ethical AI · AI In Customer Service.']\n",
      "Semantic Kernel is a lightweight SDK that lets you mix conventional programming languages, like C# and Python, with the latest in LLM (Large Language Model) technology. It provides a way to interact with LLMs through semantic functions, which are functions that expect a natural language input and return a result. Semantic Kernel also provides tooling that makes it easier to build and use LLMs in your applications.\n",
      "\n",
      "Semantic Kernel was developed by Microsoft and is currently in beta. It is available for free to developers who want to use it to build AI applications.\n",
      "\n",
      "Here are some examples of how Semantic Kernel can be used:\n",
      "\n",
      "* You can use it to create chatbots that can understand and respond to natural language questions.\n",
      "* You can use it to build natural language generation applications that can create text, translate languages, or write different kinds of creative content.\n",
      "* You can use it to build question answering applications that can answer questions about a wide range of topics.\n",
      "\n",
      "Semantic Kernel is a powerful tool that can be used to build a wide range of AI applications. If you are a developer who is interested in building AI applications, I encourage you to learn more about Semantic Kernel.\n"
     ]
    }
   ],
   "source": [
    "await main()"
   ]
  }
 ],
 "metadata": {
  "kernelspec": {
   "display_name": "Python 3 (ipykernel)",
   "language": "python",
   "name": "python3"
  },
  "language_info": {
   "codemirror_mode": {
    "name": "ipython",
    "version": 3
   },
   "file_extension": ".py",
   "mimetype": "text/x-python",
   "name": "python",
   "nbconvert_exporter": "python",
   "pygments_lexer": "ipython3",
   "version": "3.11.6"
  }
 },
 "nbformat": 4,
 "nbformat_minor": 5
}
