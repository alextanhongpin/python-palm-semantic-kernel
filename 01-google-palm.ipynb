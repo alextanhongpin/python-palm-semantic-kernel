{
 "cells": [
  {
   "cell_type": "markdown",
   "id": "cbe2cf63-e7d8-44f0-b5a2-1ede3b1c548f",
   "metadata": {},
   "source": [
    "# Using Google Palm with Semantic Kernel\n",
    "\n",
    "In this notebook, we will learn how to setup Semantic Kernel with Google Palm.\n",
    "\n",
    "\n",
    "Running asyncio on Jupyter notebook: https://nocomplexity.com/documents/jupyterlab/tip-asyncio.html\n",
    ">  No longer an issue in the latest jupyter version.\n",
    "\n",
    "```python\n",
    "loop = asyncio.get_event_loop()\n",
    "loop.create_task(main())\n",
    "```"
   ]
  },
  {
   "cell_type": "code",
   "execution_count": 2,
   "id": "60cd75bf-77e1-4ed8-833a-11b9e5f16a20",
   "metadata": {},
   "outputs": [],
   "source": [
    "import asyncio\n",
    "\n",
    "import semantic_kernel as sk\n",
    "import semantic_kernel.connectors.ai.google_palm as sk_gp\n",
    "from semantic_kernel.connectors.ai.complete_request_settings import (\n",
    "    CompleteRequestSettings,\n",
    ")"
   ]
  },
  {
   "cell_type": "code",
   "execution_count": 3,
   "id": "8ac46e31-7c66-40ae-bb07-01216f861e34",
   "metadata": {},
   "outputs": [],
   "source": [
    "import os\n",
    "\n",
    "api_key = os.environ[\"PALM_API_KEY\"]"
   ]
  },
  {
   "cell_type": "code",
   "execution_count": 4,
   "id": "93dd14b6-830c-4c1f-87c5-f51d4428ca38",
   "metadata": {},
   "outputs": [],
   "source": [
    "async def text_completion_async(kernel, api_key, user_msg, settings):\n",
    "    palm_text_completion = sk_gp.GooglePalmTextCompletion(\n",
    "        \"models/text-bison-001\", api_key\n",
    "    )\n",
    "    kernel.add_text_completion_service(\"models/text-bison-001\", palm_text_completion)\n",
    "    answer = await palm_text_completion.complete_async(user_msg, settings)\n",
    "    return answer"
   ]
  },
  {
   "cell_type": "code",
   "execution_count": 12,
   "id": "fbcb6ae5-4392-43fd-a5f1-9e3316dc5fc7",
   "metadata": {},
   "outputs": [],
   "source": [
    "async def main() -> None:\n",
    "    kernel = sk.Kernel()\n",
    "    settings = CompleteRequestSettings()\n",
    "\n",
    "    user_msg1 = (\n",
    "        \"Sam has three boxes, each containing a certain number of coins. \"\n",
    "        \"The first box has twice as many coins as the second box, and the second \"\n",
    "        \"box has three times as many coins as the third box. Together, the three \"\n",
    "        \"boxes have 98 coins in total. How many coins are there in each box? \"\n",
    "        \"Think about it step by step, and show your work.\"\n",
    "    )\n",
    "    response = await text_completion_async(kernel, api_key, user_msg1, settings)\n",
    "    print(f\"User:> {user_msg1}\\n\\nChatBot:> {response}\\n\")\n",
    "\n",
    "    # Use temperature to influence the variance of the response.\n",
    "    settings.number_of_responses = 3\n",
    "    settings.temperature = 1\n",
    "\n",
    "    user_msg2 = (\n",
    "        \"I need a concise answer. A common method for traversing a binary tree is\"\n",
    "    )\n",
    "    response = await text_completion_async(kernel, api_key, user_msg2, settings)\n",
    "\n",
    "    print(f\"User:> {user_msg2}\\n\\nChatBot:> {response}\")\n",
    "    return"
   ]
  },
  {
   "cell_type": "code",
   "execution_count": 14,
   "id": "c2d58ff3-5158-42f7-ba47-433a9e1d837b",
   "metadata": {},
   "outputs": [
    {
     "name": "stdout",
     "output_type": "stream",
     "text": [
      "User:> Sam has three boxes, each containing a certain number of coins. The first box has twice as many coins as the second box, and the second box has three times as many coins as the third box. Together, the three boxes have 98 coins in total. How many coins are there in each box? Think about it step by step, and show your work.\n",
      "\n",
      "ChatBot:> Let x be the number of coins in the third box. The second box has 3x coins. The first box has 2(3x) = 6x coins. So, x + 3x + 6x = 98. 10x = 98. x = 98 / 10 = 9.8. There are 9 coins in the third box. The second box has 3(9) = 27 coins. The first box has 2(27) = 54 coins.\n",
      "Thus, the answer is 9 , 27 , 54\n",
      "\n",
      "User:> I need a concise answer. A common method for traversing a binary tree is\n",
      "\n",
      "ChatBot:> ['Depth-first Search.', '**in-order traversal**.', 'depth-first search.']\n"
     ]
    }
   ],
   "source": [
    "await main()"
   ]
  }
 ],
 "metadata": {
  "kernelspec": {
   "display_name": "Python 3 (ipykernel)",
   "language": "python",
   "name": "python3"
  },
  "language_info": {
   "codemirror_mode": {
    "name": "ipython",
    "version": 3
   },
   "file_extension": ".py",
   "mimetype": "text/x-python",
   "name": "python",
   "nbconvert_exporter": "python",
   "pygments_lexer": "ipython3",
   "version": "3.11.6"
  }
 },
 "nbformat": 4,
 "nbformat_minor": 5
}
